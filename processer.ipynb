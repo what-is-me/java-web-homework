{
 "cells": [
  {
   "cell_type": "code",
   "execution_count": 13,
   "metadata": {},
   "outputs": [],
   "source": [
    "from bs4 import BeautifulSoup\n",
    "import json\n",
    "import re\n",
    "#处理amazon的html，需要加载完成的html，按f12获得\n",
    "\n",
    "def clear_str(s):\n",
    "    for _ in range(4):\n",
    "        s = re.sub(\"     \", \" \", s)\n",
    "    for _ in range(4):\n",
    "        s = re.sub(\"  \", \" \", s)\n",
    "    s = re.sub(\"\\n\", \"\", s)\n",
    "    return s\n",
    "\n",
    "\n",
    "with open(\"sample.txt\", \"r\", encoding=\"utf-8\") as sample:\n",
    "    html = sample.read()\n",
    "soap = BeautifulSoup(html, features=\"lxml\")\n",
    "lst = soap.body.find_all(\n",
    "    class_=\"s-card-container s-overflow-hidden aok-relative puis-include-content-margin s-latency-cf-section s-card-border\"\n",
    ")\n",
    "js = [\n",
    "    {\n",
    "        \"img\": item.select(\".s-image\")[0][\"src\"],\n",
    "        \"title\": clear_str(item.select(\".a-size-medium\")[0].get_text()),\n",
    "        \"cost\": item.select(\".a-offscreen\")[0].get_text(),\n",
    "    }\n",
    "    for item in lst\n",
    "]\n",
    "\n",
    "with open(\"sample.json\", \"a+\", encoding=\"utf-8\") as sample:\n",
    "    sample.write(json.dumps(js))\n"
   ]
  }
 ],
 "metadata": {
  "kernelspec": {
   "display_name": "Python 3.10.0 64-bit",
   "language": "python",
   "name": "python3"
  },
  "language_info": {
   "codemirror_mode": {
    "name": "ipython",
    "version": 3
   },
   "file_extension": ".py",
   "mimetype": "text/x-python",
   "name": "python",
   "nbconvert_exporter": "python",
   "pygments_lexer": "ipython3",
   "version": "3.10.0"
  },
  "orig_nbformat": 4,
  "vscode": {
   "interpreter": {
    "hash": "7e2225bfd44038f1daad959b60775cacd403d9caa0d07077b9e592244d85eed2"
   }
  }
 },
 "nbformat": 4,
 "nbformat_minor": 2
}
